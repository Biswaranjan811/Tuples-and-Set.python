{
 "cells": [
  {
   "cell_type": "code",
   "execution_count": 2,
   "id": "8ea1c7dd",
   "metadata": {},
   "outputs": [],
   "source": [
    "t1=(\"biswa\",654,(67+87j),677.98,False)"
   ]
  },
  {
   "cell_type": "code",
   "execution_count": 3,
   "id": "80e26e73",
   "metadata": {},
   "outputs": [
    {
     "data": {
      "text/plain": [
       "tuple"
      ]
     },
     "execution_count": 3,
     "metadata": {},
     "output_type": "execute_result"
    }
   ],
   "source": [
    "type(t1)"
   ]
  },
  {
   "cell_type": "code",
   "execution_count": 4,
   "id": "12b8aac2",
   "metadata": {},
   "outputs": [],
   "source": [
    "l=[\"biswa\",565,(688+87j),True]"
   ]
  },
  {
   "cell_type": "code",
   "execution_count": 5,
   "id": "76cbef40",
   "metadata": {},
   "outputs": [
    {
     "data": {
      "text/plain": [
       "list"
      ]
     },
     "execution_count": 5,
     "metadata": {},
     "output_type": "execute_result"
    }
   ],
   "source": [
    "type(l)"
   ]
  },
  {
   "cell_type": "code",
   "execution_count": 7,
   "id": "88d0fb7f",
   "metadata": {},
   "outputs": [
    {
     "data": {
      "text/plain": [
       "['biswa', 565]"
      ]
     },
     "execution_count": 7,
     "metadata": {},
     "output_type": "execute_result"
    }
   ],
   "source": [
    "l[0:2]"
   ]
  },
  {
   "cell_type": "code",
   "execution_count": 9,
   "id": "eaea2188",
   "metadata": {},
   "outputs": [
    {
     "data": {
      "text/plain": [
       "('biswa', 654)"
      ]
     },
     "execution_count": 9,
     "metadata": {},
     "output_type": "execute_result"
    }
   ],
   "source": [
    "t1[0:2]"
   ]
  },
  {
   "cell_type": "code",
   "execution_count": 10,
   "id": "f701206d",
   "metadata": {},
   "outputs": [
    {
     "data": {
      "text/plain": [
       "(False, 677.98, (67+87j), 654, 'biswa')"
      ]
     },
     "execution_count": 10,
     "metadata": {},
     "output_type": "execute_result"
    }
   ],
   "source": [
    "t1[::-1]"
   ]
  },
  {
   "cell_type": "code",
   "execution_count": 11,
   "id": "4caa7fb1",
   "metadata": {},
   "outputs": [
    {
     "data": {
      "text/plain": [
       "[True, (688+87j), 565, 'biswa']"
      ]
     },
     "execution_count": 11,
     "metadata": {},
     "output_type": "execute_result"
    }
   ],
   "source": [
    "l[::-1]"
   ]
  },
  {
   "cell_type": "code",
   "execution_count": 12,
   "id": "1b611785",
   "metadata": {},
   "outputs": [
    {
     "data": {
      "text/plain": [
       "False"
      ]
     },
     "execution_count": 12,
     "metadata": {},
     "output_type": "execute_result"
    }
   ],
   "source": [
    "t1[-1]"
   ]
  },
  {
   "cell_type": "code",
   "execution_count": 13,
   "id": "a168bab7",
   "metadata": {},
   "outputs": [
    {
     "data": {
      "text/plain": [
       "True"
      ]
     },
     "execution_count": 13,
     "metadata": {},
     "output_type": "execute_result"
    }
   ],
   "source": [
    "l[-1]"
   ]
  },
  {
   "cell_type": "code",
   "execution_count": 14,
   "id": "b81a55e1",
   "metadata": {},
   "outputs": [
    {
     "data": {
      "text/plain": [
       "(False, 677.98, (67+87j), 654, 'biswa')"
      ]
     },
     "execution_count": 14,
     "metadata": {},
     "output_type": "execute_result"
    }
   ],
   "source": [
    "t1[::-1]"
   ]
  },
  {
   "cell_type": "code",
   "execution_count": 15,
   "id": "94bf4122",
   "metadata": {},
   "outputs": [
    {
     "data": {
      "text/plain": [
       "('biswa', (67+87j), False)"
      ]
     },
     "execution_count": 15,
     "metadata": {},
     "output_type": "execute_result"
    }
   ],
   "source": [
    "t1[0::2]"
   ]
  },
  {
   "cell_type": "code",
   "execution_count": 17,
   "id": "d3fa3968",
   "metadata": {},
   "outputs": [],
   "source": [
    "t2=(546,65758,74859)"
   ]
  },
  {
   "cell_type": "code",
   "execution_count": 18,
   "id": "4548562e",
   "metadata": {},
   "outputs": [
    {
     "data": {
      "text/plain": [
       "('biswa', 654, (67+87j), 677.98, False, 546, 65758, 74859)"
      ]
     },
     "execution_count": 18,
     "metadata": {},
     "output_type": "execute_result"
    }
   ],
   "source": [
    "t1+t2"
   ]
  },
  {
   "cell_type": "code",
   "execution_count": 19,
   "id": "4b5a57e1",
   "metadata": {},
   "outputs": [],
   "source": [
    "l=(\"biswa\",\"chintu\",\"biswa\",\"subbu\",\"subbu\",\"biswaranjan\",\"subhashree\")"
   ]
  },
  {
   "cell_type": "code",
   "execution_count": 20,
   "id": "f25607d6",
   "metadata": {},
   "outputs": [
    {
     "data": {
      "text/plain": [
       "{'biswa', 'biswaranjan', 'chintu', 'subbu', 'subhashree'}"
      ]
     },
     "execution_count": 20,
     "metadata": {},
     "output_type": "execute_result"
    }
   ],
   "source": [
    "set(l)"
   ]
  },
  {
   "cell_type": "code",
   "execution_count": 24,
   "id": "68579b13",
   "metadata": {},
   "outputs": [],
   "source": [
    "l1=[1,2,344,3454,4246,2,2,2,2,2,2,2,2,5,5,5,5,5,5,5,8,8,8,8,8,89,9,9,9,9]"
   ]
  },
  {
   "cell_type": "code",
   "execution_count": 25,
   "id": "f1db25a8",
   "metadata": {},
   "outputs": [
    {
     "data": {
      "text/plain": [
       "{1, 2, 5, 8, 9, 89, 344, 3454, 4246}"
      ]
     },
     "execution_count": 25,
     "metadata": {},
     "output_type": "execute_result"
    }
   ],
   "source": [
    "set(l1)"
   ]
  },
  {
   "cell_type": "code",
   "execution_count": 26,
   "id": "c04f50e7",
   "metadata": {},
   "outputs": [],
   "source": [
    "s={}"
   ]
  },
  {
   "cell_type": "code",
   "execution_count": 27,
   "id": "2a21fb09",
   "metadata": {},
   "outputs": [
    {
     "data": {
      "text/plain": [
       "dict"
      ]
     },
     "execution_count": 27,
     "metadata": {},
     "output_type": "execute_result"
    }
   ],
   "source": [
    "type(s)"
   ]
  },
  {
   "cell_type": "code",
   "execution_count": 28,
   "id": "e9c684a9",
   "metadata": {},
   "outputs": [],
   "source": [
    "s1={1,2,3,4}"
   ]
  },
  {
   "cell_type": "code",
   "execution_count": 30,
   "id": "78bb2b8d",
   "metadata": {},
   "outputs": [
    {
     "data": {
      "text/plain": [
       "set"
      ]
     },
     "execution_count": 30,
     "metadata": {},
     "output_type": "execute_result"
    }
   ],
   "source": [
    "type(s1)"
   ]
  },
  {
   "cell_type": "code",
   "execution_count": 31,
   "id": "da9b5590",
   "metadata": {},
   "outputs": [],
   "source": [
    "s2={1,2,3,4,5,5,5,6,7,6,6,8,8,8}"
   ]
  },
  {
   "cell_type": "code",
   "execution_count": 32,
   "id": "8a636564",
   "metadata": {},
   "outputs": [
    {
     "data": {
      "text/plain": [
       "{1, 2, 3, 4, 5, 6, 7, 8}"
      ]
     },
     "execution_count": 32,
     "metadata": {},
     "output_type": "execute_result"
    }
   ],
   "source": [
    "s2"
   ]
  },
  {
   "cell_type": "code",
   "execution_count": 34,
   "id": "eecbb2a0",
   "metadata": {},
   "outputs": [
    {
     "data": {
      "text/plain": [
       "[1, 2, 3, 4, 5, 6, 7, 8]"
      ]
     },
     "execution_count": 34,
     "metadata": {},
     "output_type": "execute_result"
    }
   ],
   "source": [
    "list(s2)"
   ]
  },
  {
   "cell_type": "code",
   "execution_count": 35,
   "id": "f241d94e",
   "metadata": {},
   "outputs": [
    {
     "data": {
      "text/plain": [
       "{1, 2, 3, 4, 5, 6, 7, 8}"
      ]
     },
     "execution_count": 35,
     "metadata": {},
     "output_type": "execute_result"
    }
   ],
   "source": [
    "s2"
   ]
  },
  {
   "cell_type": "code",
   "execution_count": 38,
   "id": "2675a491",
   "metadata": {},
   "outputs": [],
   "source": [
    "s2.add(4564)"
   ]
  },
  {
   "cell_type": "code",
   "execution_count": 39,
   "id": "cf13b789",
   "metadata": {},
   "outputs": [
    {
     "data": {
      "text/plain": [
       "{1, 2, 3, 4, 5, 6, 7, 8, 4564}"
      ]
     },
     "execution_count": 39,
     "metadata": {},
     "output_type": "execute_result"
    }
   ],
   "source": [
    "s2"
   ]
  },
  {
   "cell_type": "code",
   "execution_count": 40,
   "id": "60bc6e0f",
   "metadata": {},
   "outputs": [],
   "source": [
    "s2.add(\"biswa\")"
   ]
  },
  {
   "cell_type": "code",
   "execution_count": 41,
   "id": "cb143e98",
   "metadata": {},
   "outputs": [
    {
     "data": {
      "text/plain": [
       "{1, 2, 3, 4, 4564, 5, 6, 7, 8, 'biswa'}"
      ]
     },
     "execution_count": 41,
     "metadata": {},
     "output_type": "execute_result"
    }
   ],
   "source": [
    "s2"
   ]
  },
  {
   "cell_type": "code",
   "execution_count": 45,
   "id": "bac836a8",
   "metadata": {},
   "outputs": [
    {
     "ename": "SyntaxError",
     "evalue": "invalid syntax (3822902165.py, line 1)",
     "output_type": "error",
     "traceback": [
      "\u001b[1;36m  Input \u001b[1;32mIn [45]\u001b[1;36m\u001b[0m\n\u001b[1;33m    {[1,2,3,3,,4,] ,2,3,4,5,6,7,}\u001b[0m\n\u001b[1;37m              ^\u001b[0m\n\u001b[1;31mSyntaxError\u001b[0m\u001b[1;31m:\u001b[0m invalid syntax\n"
     ]
    }
   ],
   "source": [
    "{[1,2,3,3,,4,] ,2,3,4,5,6,7,}"
   ]
  },
  {
   "cell_type": "code",
   "execution_count": 47,
   "id": "877f3f4f",
   "metadata": {},
   "outputs": [
    {
     "data": {
      "text/plain": [
       "{(1, 2, 3, 3, 4), 2, 3, 4, 5, 6, 7}"
      ]
     },
     "execution_count": 47,
     "metadata": {},
     "output_type": "execute_result"
    }
   ],
   "source": [
    "{(1,2,3,3,4) ,2,3,4,5,5,5,5,6,7}"
   ]
  },
  {
   "cell_type": "code",
   "execution_count": 50,
   "id": "a56ba661",
   "metadata": {},
   "outputs": [
    {
     "ename": "SyntaxError",
     "evalue": "invalid syntax (4244538865.py, line 1)",
     "output_type": "error",
     "traceback": [
      "\u001b[1;36m  Input \u001b[1;32mIn [50]\u001b[1;36m\u001b[0m\n\u001b[1;33m    {(1,2,3,4,5) ,(2,3,4,,5,6) ,2,3,4,5,6,7,7,7,8,8,8,8,8,8,8,8}\u001b[0m\n\u001b[1;37m                         ^\u001b[0m\n\u001b[1;31mSyntaxError\u001b[0m\u001b[1;31m:\u001b[0m invalid syntax\n"
     ]
    }
   ],
   "source": [
    "{(1,2,3,4,5) ,(2,3,4,,5,6) ,2,3,4,5,6,7,7,7,8,8,8,8,8,8,8,8}"
   ]
  },
  {
   "cell_type": "code",
   "execution_count": 1,
   "id": "eac6be1c",
   "metadata": {},
   "outputs": [],
   "source": [
    "s={(1,2,3,4,5,6,7,),8,9,10,11,12,12,12,12,12,1,2}"
   ]
  },
  {
   "cell_type": "code",
   "execution_count": 2,
   "id": "591034d6",
   "metadata": {},
   "outputs": [
    {
     "data": {
      "text/plain": [
       "{(1, 2, 3, 4, 5, 6, 7), 1, 10, 11, 12, 2, 8, 9}"
      ]
     },
     "execution_count": 2,
     "metadata": {},
     "output_type": "execute_result"
    }
   ],
   "source": [
    "s"
   ]
  },
  {
   "cell_type": "code",
   "execution_count": 3,
   "id": "c6d982e7",
   "metadata": {},
   "outputs": [],
   "source": [
    "s.remove(2)"
   ]
  },
  {
   "cell_type": "code",
   "execution_count": 4,
   "id": "becf8fdd",
   "metadata": {},
   "outputs": [
    {
     "data": {
      "text/plain": [
       "{(1, 2, 3, 4, 5, 6, 7), 1, 10, 11, 12, 8, 9}"
      ]
     },
     "execution_count": 4,
     "metadata": {},
     "output_type": "execute_result"
    }
   ],
   "source": [
    "s"
   ]
  },
  {
   "cell_type": "code",
   "execution_count": 5,
   "id": "07bd58cf",
   "metadata": {},
   "outputs": [],
   "source": [
    "s.discard(1)"
   ]
  },
  {
   "cell_type": "code",
   "execution_count": 6,
   "id": "90eb0d39",
   "metadata": {},
   "outputs": [
    {
     "data": {
      "text/plain": [
       "{(1, 2, 3, 4, 5, 6, 7), 10, 11, 12, 8, 9}"
      ]
     },
     "execution_count": 6,
     "metadata": {},
     "output_type": "execute_result"
    }
   ],
   "source": [
    "s"
   ]
  },
  {
   "cell_type": "code",
   "execution_count": 7,
   "id": "36a98130",
   "metadata": {},
   "outputs": [
    {
     "ename": "KeyError",
     "evalue": "60",
     "output_type": "error",
     "traceback": [
      "\u001b[1;31m---------------------------------------------------------------------------\u001b[0m",
      "\u001b[1;31mKeyError\u001b[0m                                  Traceback (most recent call last)",
      "Input \u001b[1;32mIn [7]\u001b[0m, in \u001b[0;36m<cell line: 1>\u001b[1;34m()\u001b[0m\n\u001b[1;32m----> 1\u001b[0m \u001b[43ms\u001b[49m\u001b[38;5;241;43m.\u001b[39;49m\u001b[43mremove\u001b[49m\u001b[43m(\u001b[49m\u001b[38;5;241;43m60\u001b[39;49m\u001b[43m)\u001b[49m\n",
      "\u001b[1;31mKeyError\u001b[0m: 60"
     ]
    }
   ],
   "source": [
    "s.remove(60)"
   ]
  },
  {
   "cell_type": "code",
   "execution_count": 8,
   "id": "49524a2b",
   "metadata": {},
   "outputs": [],
   "source": [
    "s.discard(60)"
   ]
  },
  {
   "cell_type": "code",
   "execution_count": 9,
   "id": "9db99e24",
   "metadata": {},
   "outputs": [
    {
     "data": {
      "text/plain": [
       "{(1, 2, 3, 4, 5, 6, 7), 10, 11, 12, 8, 9}"
      ]
     },
     "execution_count": 9,
     "metadata": {},
     "output_type": "execute_result"
    }
   ],
   "source": [
    "s"
   ]
  },
  {
   "cell_type": "code",
   "execution_count": 10,
   "id": "cdd9902e",
   "metadata": {},
   "outputs": [],
   "source": [
    "s2={\"biswa\",\"biswa\"}"
   ]
  },
  {
   "cell_type": "code",
   "execution_count": 11,
   "id": "6cc9b3ce",
   "metadata": {},
   "outputs": [
    {
     "data": {
      "text/plain": [
       "{'biswa'}"
      ]
     },
     "execution_count": 11,
     "metadata": {},
     "output_type": "execute_result"
    }
   ],
   "source": [
    "s2"
   ]
  },
  {
   "cell_type": "code",
   "execution_count": 13,
   "id": "fcbee7bc",
   "metadata": {},
   "outputs": [
    {
     "data": {
      "text/plain": [
       "{'Biswa', 'biswa'}"
      ]
     },
     "execution_count": 13,
     "metadata": {},
     "output_type": "execute_result"
    }
   ],
   "source": [
    "{\"biswa\",\"Biswa\"}"
   ]
  },
  {
   "cell_type": "code",
   "execution_count": 4,
   "id": "8ef43369",
   "metadata": {},
   "outputs": [],
   "source": [
    "d1={\"key1\":645464,\"key2\":76337,\"key3\":927273}"
   ]
  },
  {
   "cell_type": "code",
   "execution_count": 5,
   "id": "012874a8",
   "metadata": {},
   "outputs": [
    {
     "data": {
      "text/plain": [
       "645464"
      ]
     },
     "execution_count": 5,
     "metadata": {},
     "output_type": "execute_result"
    }
   ],
   "source": [
    "d1['key1']"
   ]
  },
  {
   "cell_type": "code",
   "execution_count": 7,
   "id": "542c8077",
   "metadata": {},
   "outputs": [],
   "source": [
    "d2={\"chintu\":\"maguru\",\"Biswa\":\"Subbu\",\"Subbu\":\"Biswa\"}"
   ]
  },
  {
   "cell_type": "code",
   "execution_count": 8,
   "id": "dae8738e",
   "metadata": {},
   "outputs": [
    {
     "data": {
      "text/plain": [
       "'maguru'"
      ]
     },
     "execution_count": 8,
     "metadata": {},
     "output_type": "execute_result"
    }
   ],
   "source": [
    "d2[\"chintu\"]"
   ]
  },
  {
   "cell_type": "code",
   "execution_count": 9,
   "id": "9d543e67",
   "metadata": {},
   "outputs": [
    {
     "data": {
      "text/plain": [
       "'Biswa'"
      ]
     },
     "execution_count": 9,
     "metadata": {},
     "output_type": "execute_result"
    }
   ],
   "source": [
    "d2[\"Subbu\"]"
   ]
  },
  {
   "cell_type": "code",
   "execution_count": 3,
   "id": "6e1d6558",
   "metadata": {},
   "outputs": [],
   "source": [
    "    a=\"chintu\""
   ]
  },
  {
   "cell_type": "code",
   "execution_count": null,
   "id": "60097513",
   "metadata": {},
   "outputs": [],
   "source": [
    "a."
   ]
  }
 ],
 "metadata": {
  "kernelspec": {
   "display_name": "Python 3 (ipykernel)",
   "language": "python",
   "name": "python3"
  },
  "language_info": {
   "codemirror_mode": {
    "name": "ipython",
    "version": 3
   },
   "file_extension": ".py",
   "mimetype": "text/x-python",
   "name": "python",
   "nbconvert_exporter": "python",
   "pygments_lexer": "ipython3",
   "version": "3.9.12"
  }
 },
 "nbformat": 4,
 "nbformat_minor": 5
}
